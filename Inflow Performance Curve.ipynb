{
 "cells": [
  {
   "cell_type": "markdown",
   "metadata": {},
   "source": [
    "### Example 1\n",
    "Construct IPR of a vertical well in an oil reservoir. Consider (1) transient flow at 1 month, (2) steady-state flow, and (3) pseudo–steady-state flow. The following data are given:\n",
    "\n",
    "Porosity:phi = 0.19\n",
    "\n",
    "Effective horizontal permeability: k = 8.2 md\n",
    "\n",
    "Pay zone thickness: h = 53 ft\n",
    "\n",
    "Reservoir pressure: pe or p = 5651 psia\n",
    "\n",
    "Bubble-point pressure: pb = 50 psia\n",
    "\n",
    "Fluid formation volume factor:, Bo = 1.1\n",
    "\n",
    "Fluid viscosity: mu =1.7 cp\n",
    "\n",
    "Total compressibility, ct = 0.0000129 1/psi\n",
    "\n",
    "Drainage area: A = 640 acres (re = 2980 ft)\n",
    "\n",
    "Wellbore radius: rw = 0.328 ft\n",
    "\n",
    "Skin factor: S = 0"
   ]
  },
  {
   "cell_type": "code",
   "execution_count": 1,
   "metadata": {},
   "outputs": [],
   "source": [
    "import math\n",
    "def J(k, h, Bo, mu, t, phi, ct, rw):\n",
    "    \"\"\"\n",
    "    Compute the J function, Productivity Index (STB/D/Psi)\n",
    "    \n",
    "    args:\n",
    "        k  : permeability (md)\n",
    "        h  : Pay zone thickness (ft)\n",
    "        Bo : FVF\n",
    "        mu : Fluid viscosity(cp)\n",
    "        t  : flow time (hours)\n",
    "        phi: Porosity\n",
    "        ct : Total Compressibility (1/psi)\n",
    "        rw : Drainage area (ft)\n",
    "        \n",
    "    Returns:\n",
    "        J* : STB/D/psi\n",
    "    \"\"\"\n",
    "    J_star = k*h/(162.6*Bo*mu*(math.log(t) + math.log(k/(phi*mu*ct*rw**2)) - 3.23))\n",
    "    return J_star   "
   ]
  },
  {
   "cell_type": "code",
   "execution_count": 2,
   "metadata": {},
   "outputs": [],
   "source": [
    "k = 8.2       #md\n",
    "h = 53.0      #ft\n",
    "Bo = 1.1\n",
    "mu = 1.7      #cp\n",
    "t  = 720.0    #days\n",
    "phi = 0.19\n",
    "ct = 0.0000129 #1/psi\n",
    "rw = 0.328"
   ]
  },
  {
   "cell_type": "code",
   "execution_count": 3,
   "metadata": {},
   "outputs": [
    {
     "data": {
      "text/plain": [
       "0.07121197776617541"
      ]
     },
     "execution_count": 3,
     "metadata": {},
     "output_type": "execute_result"
    }
   ],
   "source": [
    "J(k, h, Bo, mu, t, phi, ct, rw)"
   ]
  },
  {
   "cell_type": "markdown",
   "metadata": {},
   "source": [
    "## (2) steady-state flow"
   ]
  },
  {
   "cell_type": "code",
   "execution_count": 4,
   "metadata": {},
   "outputs": [],
   "source": [
    "def J(k, h, Bo, mu, re, rw):\n",
    "    \"\"\"\n",
    "    Compute the J function, Productivity Index (STB/D/Psi)\n",
    "    \n",
    "    args:\n",
    "        k  : permeability (md)\n",
    "        h  : Pay zone thickness (ft)\n",
    "        Bo : FVF\n",
    "        mu : Fluid viscosity(cp)\n",
    "        t  : flow time (hours)\n",
    "        phi: Porosity\n",
    "        ct : Total Compressibility (1/psi)\n",
    "        rw : Drainage area (ft)\n",
    "        \n",
    "    Returns:\n",
    "        J* : STB/D/psi\n",
    "    \"\"\"\n",
    "    J_star = k*h/(141.2*Bo*mu*(math.log(re/rw)))\n",
    "    return J_star"
   ]
  },
  {
   "cell_type": "code",
   "execution_count": 5,
   "metadata": {},
   "outputs": [],
   "source": [
    "k = 8.2       #md\n",
    "h = 53.0      #ft\n",
    "Bo = 1.1\n",
    "mu = 1.7      #cp\n",
    "t  = 720.0    #days\n",
    "phi = 0.19\n",
    "ct = 0.0000129 #1/psi\n",
    "rw = 0.328\n",
    "re = 2980.0\n",
    "S=0.0\n",
    "p = 5651"
   ]
  },
  {
   "cell_type": "code",
   "execution_count": 6,
   "metadata": {},
   "outputs": [
    {
     "data": {
      "text/plain": [
       "0.18058612101281482"
      ]
     },
     "execution_count": 6,
     "metadata": {},
     "output_type": "execute_result"
    }
   ],
   "source": [
    "J = J(k, h, Bo, mu, re, rw)\n",
    "J"
   ]
  },
  {
   "cell_type": "code",
   "execution_count": 7,
   "metadata": {
    "scrolled": true
   },
   "outputs": [
    {
     "name": "stdout",
     "output_type": "stream",
     "text": [
      "1020.4921698434166\n",
      "930.1991093370092\n",
      "839.9060488306018\n",
      "749.6129883241944\n",
      "659.319927817787\n",
      "569.0268673113795\n",
      "478.73380680497206\n",
      "388.4407462985647\n",
      "298.1476857921573\n",
      "207.85462528574985\n",
      "117.56156477934245\n",
      "27.268504272935036\n"
     ]
    }
   ],
   "source": [
    "for pwf in range(0, 5651, 500):\n",
    "    Q = J * (p - pwf)\n",
    "    print(Q)"
   ]
  },
  {
   "cell_type": "code",
   "execution_count": 8,
   "metadata": {},
   "outputs": [
    {
     "data": {
      "text/plain": [
       "[0, 500, 1000, 1500, 2000, 2500, 3000, 3500, 4000, 4500, 5000, 5500]"
      ]
     },
     "execution_count": 8,
     "metadata": {},
     "output_type": "execute_result"
    }
   ],
   "source": [
    "pwf = range(0, 5651, 500)\n",
    "pwf = list(pwf)\n",
    "pwf"
   ]
  },
  {
   "cell_type": "code",
   "execution_count": 9,
   "metadata": {},
   "outputs": [],
   "source": [
    "import pandas as pd"
   ]
  },
  {
   "cell_type": "code",
   "execution_count": 10,
   "metadata": {},
   "outputs": [],
   "source": [
    "data1 = {1:1020.4921698434166, 2:930.1991093370092, 3:839.9060488306018,\n",
    "       4:749.6129883241944, 5:659.319927817787, 6:569.0268673113795,\n",
    "       7:478.73380680497206, 8:388.4407462985647, 9:298.1476857921573,\n",
    "       10:207.85462528574985, 11:117.56156477934245, 12:27.268504272935036,\n",
    "       13:0}"
   ]
  },
  {
   "cell_type": "code",
   "execution_count": 11,
   "metadata": {},
   "outputs": [],
   "source": [
    "data2 = {1:0, 2:500, 3:1000, 4:1500, 5:2000, 6:2500, 7:3000, 8:3500,\n",
    "        9:4000, 10:4500, 11:5000, 12:5500, 13:5651}"
   ]
  },
  {
   "cell_type": "code",
   "execution_count": 13,
   "metadata": {},
   "outputs": [],
   "source": [
    "df = pd.DataFrame({\"Q(stb/day)\":data1, \"pwf(psia)\":data2})"
   ]
  },
  {
   "cell_type": "code",
   "execution_count": 14,
   "metadata": {},
   "outputs": [
    {
     "data": {
      "text/html": [
       "<div>\n",
       "<style scoped>\n",
       "    .dataframe tbody tr th:only-of-type {\n",
       "        vertical-align: middle;\n",
       "    }\n",
       "\n",
       "    .dataframe tbody tr th {\n",
       "        vertical-align: top;\n",
       "    }\n",
       "\n",
       "    .dataframe thead th {\n",
       "        text-align: right;\n",
       "    }\n",
       "</style>\n",
       "<table border=\"1\" class=\"dataframe\">\n",
       "  <thead>\n",
       "    <tr style=\"text-align: right;\">\n",
       "      <th></th>\n",
       "      <th>Q (stb/day)</th>\n",
       "      <th>pwf (psia)</th>\n",
       "    </tr>\n",
       "  </thead>\n",
       "  <tbody>\n",
       "    <tr>\n",
       "      <th>1</th>\n",
       "      <td>1020.492170</td>\n",
       "      <td>0</td>\n",
       "    </tr>\n",
       "    <tr>\n",
       "      <th>2</th>\n",
       "      <td>930.199109</td>\n",
       "      <td>500</td>\n",
       "    </tr>\n",
       "    <tr>\n",
       "      <th>3</th>\n",
       "      <td>839.906049</td>\n",
       "      <td>1000</td>\n",
       "    </tr>\n",
       "    <tr>\n",
       "      <th>4</th>\n",
       "      <td>749.612988</td>\n",
       "      <td>1500</td>\n",
       "    </tr>\n",
       "    <tr>\n",
       "      <th>5</th>\n",
       "      <td>659.319928</td>\n",
       "      <td>2000</td>\n",
       "    </tr>\n",
       "    <tr>\n",
       "      <th>6</th>\n",
       "      <td>569.026867</td>\n",
       "      <td>2500</td>\n",
       "    </tr>\n",
       "    <tr>\n",
       "      <th>7</th>\n",
       "      <td>478.733807</td>\n",
       "      <td>3000</td>\n",
       "    </tr>\n",
       "    <tr>\n",
       "      <th>8</th>\n",
       "      <td>388.440746</td>\n",
       "      <td>3500</td>\n",
       "    </tr>\n",
       "    <tr>\n",
       "      <th>9</th>\n",
       "      <td>298.147686</td>\n",
       "      <td>4000</td>\n",
       "    </tr>\n",
       "    <tr>\n",
       "      <th>10</th>\n",
       "      <td>207.854625</td>\n",
       "      <td>4500</td>\n",
       "    </tr>\n",
       "    <tr>\n",
       "      <th>11</th>\n",
       "      <td>117.561565</td>\n",
       "      <td>5000</td>\n",
       "    </tr>\n",
       "    <tr>\n",
       "      <th>12</th>\n",
       "      <td>27.268504</td>\n",
       "      <td>5500</td>\n",
       "    </tr>\n",
       "    <tr>\n",
       "      <th>13</th>\n",
       "      <td>0.000000</td>\n",
       "      <td>5651</td>\n",
       "    </tr>\n",
       "  </tbody>\n",
       "</table>\n",
       "</div>"
      ],
      "text/plain": [
       "    Q (stb/day)  pwf (psia)\n",
       "1   1020.492170           0\n",
       "2    930.199109         500\n",
       "3    839.906049        1000\n",
       "4    749.612988        1500\n",
       "5    659.319928        2000\n",
       "6    569.026867        2500\n",
       "7    478.733807        3000\n",
       "8    388.440746        3500\n",
       "9    298.147686        4000\n",
       "10   207.854625        4500\n",
       "11   117.561565        5000\n",
       "12    27.268504        5500\n",
       "13     0.000000        5651"
      ]
     },
     "execution_count": 14,
     "metadata": {},
     "output_type": "execute_result"
    }
   ],
   "source": [
    "df"
   ]
  },
  {
   "cell_type": "code",
   "execution_count": 15,
   "metadata": {},
   "outputs": [],
   "source": [
    "import matplotlib.pyplot as plt"
   ]
  },
  {
   "cell_type": "code",
   "execution_count": 23,
   "metadata": {},
   "outputs": [
    {
     "data": {
      "text/plain": [
       "Text(0.5, 1.0, 'Steady-state IPR Curve')"
      ]
     },
     "execution_count": 23,
     "metadata": {},
     "output_type": "execute_result"
    },
    {
     "data": {
      "image/png": "[encoded data removed]",
      "text/plain": [
       "<Figure size 432x288 with 1 Axes>"
      ]
     },
     "metadata": {
      "needs_background": "light"
     },
     "output_type": "display_data"
    }
   ],
   "source": [
    "plt.plot(df['Q (stb/day)'], df['pwf (psia)'], 'r')\n",
    "plt.xlim(0,1200)\n",
    "plt.ylim(0, 6000)\n",
    "plt.xlabel(\"Qo (stb/day)\")\n",
    "plt.ylabel(\"pwf (psia)\")\n",
    "plt.title(\"Steady-state IPR Curve\")"
   ]
  },
  {
   "cell_type": "markdown",
   "metadata": {},
   "source": [
    "### Example 2\n",
    "\n",
    "Construct IPR of a vertical well in a saturated oil reservoir using Vogel’s equation. The following data are given:\n",
    "\n",
    "Porosity: 0.19\n",
    "\n",
    "Effective horizontal permeability: k = 8.2 md\n",
    "\n",
    "Pay zone thickness: h = 53 ft\n",
    "\n",
    "Reservoir pressure: p = 5,651 psia\n",
    "\n",
    "Bubble point pressure: pb = 5,651 psia\n",
    "\n",
    "Fluid formation volume factor: Bo = 1.1\n",
    "\n",
    "Fluid viscosity: mu = 1.7 cp\n",
    "\n",
    "Total compressibility: ct = 0.0000129 psi-1\n",
    "\n",
    "Drainage area: A = 640 acres\n",
    "(re = 2,980 ft)\n",
    "\n",
    "Wellbore radius: rw = 0.328 ft\n",
    "\n",
    "Skin factor: S = 0"
   ]
  },
  {
   "cell_type": "code",
   "execution_count": 61,
   "metadata": {},
   "outputs": [],
   "source": [
    "def J(k, h, Bo, mu, re, rw, S):\n",
    "    \"\"\"\n",
    "    Compute the J function, Productivity Index (STB/D/Psi)\n",
    "    \n",
    "    args:\n",
    "        k  : permeability (md)\n",
    "        h  : Pay zone thickness (ft)\n",
    "        Bo : FVF\n",
    "        mu : Fluid viscosity(cp)\n",
    "        t  : flow time (hours)\n",
    "        phi: Porosity\n",
    "        ct : Total Compressibility (1/psi)\n",
    "        rw : Drainage area (ft)\n",
    "        \n",
    "    Returns:\n",
    "        J* : STB/D/psi\n",
    "    \"\"\"\n",
    "    J_star = k*h/(141.2*Bo*mu*(math.log(re/rw) - (3/4) + S))\n",
    "    return J_star"
   ]
  },
  {
   "cell_type": "code",
   "execution_count": 62,
   "metadata": {},
   "outputs": [],
   "source": [
    "#Given Data\n",
    "k = 8.2       #md\n",
    "h = 53.0      #ft\n",
    "Bo = 1.1\n",
    "mu = 1.7      #cp\n",
    "t  = 720.0    #days\n",
    "phi = 0.19\n",
    "ct = 0.0000129 #1/psi\n",
    "rw = 0.328\n",
    "re = 2980.0\n",
    "S=0.0\n",
    "p = 5651.0\n",
    "pb = 5651.0"
   ]
  },
  {
   "cell_type": "code",
   "execution_count": 63,
   "metadata": {},
   "outputs": [
    {
     "data": {
      "text/plain": [
       "0.19677846748871472"
      ]
     },
     "execution_count": 63,
     "metadata": {},
     "output_type": "execute_result"
    }
   ],
   "source": [
    "#Let's calculate J*\n",
    "J(k, h, Bo, mu, re, rw, S)\n",
    "J = J(k, h, Bo, mu, re, rw, S)\n",
    "J"
   ]
  },
  {
   "cell_type": "markdown",
   "metadata": {},
   "source": [
    "### qmax"
   ]
  },
  {
   "cell_type": "code",
   "execution_count": 64,
   "metadata": {},
   "outputs": [
    {
     "data": {
      "text/plain": [
       "617.7750665437371"
      ]
     },
     "execution_count": 64,
     "metadata": {},
     "output_type": "execute_result"
    }
   ],
   "source": [
    "qmax = J*p/1.8\n",
    "qmax"
   ]
  },
  {
   "cell_type": "code",
   "execution_count": 73,
   "metadata": {},
   "outputs": [
    {
     "data": {
      "text/plain": [
       "[0, 500, 1000, 1500, 2000, 2500, 3000, 3500, 4000, 4500, 5000, 5500]"
      ]
     },
     "execution_count": 73,
     "metadata": {},
     "output_type": "execute_result"
    }
   ],
   "source": [
    "#Let's assume pwf betwen 0 and 5651 with 500 interval\n",
    "pwf = range(0, 5651, 500)\n",
    "list(pwf)"
   ]
  },
  {
   "cell_type": "code",
   "execution_count": 71,
   "metadata": {},
   "outputs": [
    {
     "name": "stdout",
     "output_type": "stream",
     "text": [
      "618\n",
      "603\n",
      "580\n",
      "550\n",
      "512\n",
      "466\n",
      "413\n",
      "352\n",
      "283\n",
      "206\n",
      "122\n",
      "29\n"
     ]
    }
   ],
   "source": [
    "#let's calculate the production rate expected from the pwf\n",
    "for pwf in range(0, 5651, 500):\n",
    "    q = qmax*(1-0.2*(pwf/p) - 0.8*(pwf/p)**2)\n",
    "    print(round(q))"
   ]
  },
  {
   "cell_type": "code",
   "execution_count": 74,
   "metadata": {},
   "outputs": [],
   "source": [
    "pwf = [0, 500, 1000, 1500, 2000, 2500, 3000, 3500, 4000, 4500, 5000, 5500, 5651]\n",
    "q = [618, 603, 580, 550, 512, 466, 413, 352, 283, 206, 122, 29, 0]"
   ]
  },
  {
   "cell_type": "code",
   "execution_count": 89,
   "metadata": {},
   "outputs": [
    {
     "data": {
      "text/plain": [
       "Text(618, 0, 'AOF')"
      ]
     },
     "execution_count": 89,
     "metadata": {},
     "output_type": "execute_result"
    },
    {
     "data": {
      "image/png": "[encoded data removed]",
      "text/plain": [
       "<Figure size 432x288 with 1 Axes>"
      ]
     },
     "metadata": {
      "needs_background": "light"
     },
     "output_type": "display_data"
    }
   ],
   "source": [
    "plt.plot(q, pwf, 'g', ls='--', marker ='o', \n",
    "         markersize=5, markerfacecolor='black')\n",
    "plt.xlim(0,700)\n",
    "plt.ylim(0, 6000)\n",
    "plt.xlabel(\"Q(stb/day)\")\n",
    "plt.ylabel(\"pwf(psia)\")\n",
    "plt.title(\"IPR Curve\")\n",
    "plt.annotate('<------Pb', (0,5651), color='red')\n",
    "plt.annotate('AOF', (618,0), fontsize=12, color ='red')"
   ]
  },
  {
   "cell_type": "code",
   "execution_count": null,
   "metadata": {},
   "outputs": [],
   "source": []
  }
 ],
 "metadata": {
  "kernelspec": {
   "display_name": "Python 3",
   "language": "python",
   "name": "python3"
  },
  "language_info": {
   "codemirror_mode": {
    "name": "ipython",
    "version": 3
   },
   "file_extension": ".py",
   "mimetype": "text/x-python",
   "name": "python",
   "nbconvert_exporter": "python",
   "pygments_lexer": "ipython3",
   "version": "3.7.6"
  }
 },
 "nbformat": 4,
 "nbformat_minor": 4
}
